{
 "cells": [
  {
   "cell_type": "code",
   "execution_count": 27,
   "metadata": {},
   "outputs": [],
   "source": [
    "# Dependencies\n",
    "import pandas as pd\n",
    "from bs4 import BeautifulSoup as bs\n",
    "from splinter import Browser\n",
    "import requests\n",
    "from webdriver_manager.chrome import ChromeDriverManager"
   ]
  },
  {
   "cell_type": "code",
   "execution_count": 58,
   "metadata": {},
   "outputs": [],
   "source": [
    "# Setup splinter\n",
    "executable_path = {'executable_path': '/usr/local/bin/chromedriver'}\n",
    "browser = Browser('chrome', **executable_path, headless=False)"
   ]
  },
  {
   "cell_type": "code",
   "execution_count": 11,
   "metadata": {},
   "outputs": [],
   "source": [
    "# URLs\n",
    "nasa_url = \"https://mars.nasa.gov/news/?page=0&per_page=40&order=publish_date+desc%2Ccreated_at+desc&search=&category=19%2C165%2C184%2C204&blank_scope=Latest\"\n",
    "\n",
    "jpl_url = \"https://www.jpl.nasa.gov/spaceimages/?search=&category=Mars\"\n",
    "\n",
    "mars_facts_url = \"https://space-facts.com/mars/\"\n",
    "\n",
    "usgs_url = \"https://astrogeology.usgs.gov/search/results?q=hemisphere+enhanced&k1=target&v1=Mars\""
   ]
  },
  {
   "cell_type": "code",
   "execution_count": 12,
   "metadata": {},
   "outputs": [],
   "source": [
    "# Step 1. Scrape the NASA Mars news site \n",
    "browser.visit(nasa_url)\n",
    "\n",
    "# collects data in first parameter that otherwise wouldn't show up\n",
    "browser.is_element_present_by_css(\"ul.item_list li.slide\", wait_time=1)\n",
    "\n",
    "html = browser.html\n",
    "soup = bs(html, 'html.parser')\n",
    "\n",
    "# collect the latest News Title and Paragraph Text\n",
    "content = soup.find_all('div', class_=\"list_text\")\n",
    "\n",
    "titles = []\n",
    "paragraphs = []\n",
    "\n",
    "# collect title and description for each article and append to lists\n",
    "for article in content:\n",
    "    try:\n",
    "        # find divs with content-title class and article_teaser_body class\n",
    "        title_tag = article.find('div', class_='content_title')\n",
    "        paragraph = article.find('div', class_='article_teaser_body').text.strip()\n",
    "        \n",
    "        title = title_tag.find('a').text.strip()\n",
    "        \n",
    "        if (title and paragraph):\n",
    "            titles.append(title)\n",
    "            paragraphs.append(paragraph)\n",
    "    except AttributeError as a:\n",
    "        print(a)\n",
    "    \n",
    "# retrieve latest and assign to variables 'news_title' and 'news_p'\n",
    "news_title = titles[0]\n",
    "news_p = paragraphs[0]"
   ]
  },
  {
   "cell_type": "code",
   "execution_count": 26,
   "metadata": {},
   "outputs": [
    {
     "name": "stdout",
     "output_type": "stream",
     "text": [
      "https://www.jpl.nasa.gov//spaceimages/images/mediumsize/PIA18292_ip.jpg\n"
     ]
    }
   ],
   "source": [
    "# Step 2: Use Splinter to navigate through JPL Featured Space site \n",
    "browser.visit(jpl_url)\n",
    "browser.is_element_present_by_css('div.fancybox-lock div.fancybox-wrap', wait_time=1)\n",
    "\n",
    "html = browser.html\n",
    "soup = bs(html, 'html.parser')\n",
    "\n",
    "# find image url for current Featured Mars Image and make sure image url is full size .jpg \n",
    "browser.links.find_by_partial_text('FULL IMAGE').click()\n",
    "\n",
    "# assign url to variable called 'featured_image_url'\n",
    "imagebox = soup.find('div', class_='default floating_text_area ms-layer')\n",
    "image_link = imagebox.footer.a['data-fancybox-href']\n",
    "\n",
    "feature_image_url = f\"https://www.jpl.nasa.gov/{image_link}\""
   ]
  },
  {
   "cell_type": "code",
   "execution_count": 49,
   "metadata": {},
   "outputs": [],
   "source": [
    "# Step 3: use Pandas to scrape Mars Facts site for table information including Mass, Diameter, etc.\n",
    "tables = pd.read_html(mars_facts_url)\n",
    "mars_facts_table = tables[2]\n",
    "\n",
    "# rename columns and set the index as 'Description'\n",
    "mars_facts_table = mars_facts_table.rename(columns={0: 'Description', 1: 'Mars'})\n",
    "mars_facts_table = mars_facts_table.set_index('Description')\n",
    "\n",
    "mars_facts_table\n",
    "\n",
    "# use Pandas to convert to HTML table string\n",
    "mars_facts_table.to_html('table.html')"
   ]
  },
  {
   "cell_type": "code",
   "execution_count": 59,
   "metadata": {},
   "outputs": [],
   "source": [
    "# Step 4: Scrape USGS site and collect high res images for each of Mars' hemispheres\n",
    "browser.visit(usgs_url)\n",
    "browser.is_element_present_by_css(\"section.results-accordian div.collapsable div.results div.item\", wait_time=1)\n",
    "html = browser.html\n",
    "soup = bs(html, 'html.parser')\n",
    "\n",
    "# collect names of each of hemisphere buttons to click and collect images\n",
    "hemisphere_buttons = soup.find_all('div', class_='description')\n",
    "\n",
    "hemispheres = []\n",
    "\n",
    "for hemisphere in hemisphere_buttons:\n",
    "    try:\n",
    "        # get button name and title of each hemisphere\n",
    "        button = hemisphere.find('a', class_='itemLink').text\n",
    "        title = button.rsplit(' ', 1)[0]\n",
    "        \n",
    "        # click each of the links to hemisphere to find image in full resolution\n",
    "        browser.links.find_by_partial_text(button).click()\n",
    "        browser.is_element_present_by_css('div.container div.downloads', wait_time=1)\n",
    "        html = browser.html\n",
    "        soup = bs(html, 'html.parser')\n",
    "        \n",
    "        # save both image url string for the full resolution hemisphere image, and\n",
    "        # the Hemisphere title containing the hemisphere name to a dictionary using keys 'image_url' and 'title'\n",
    "        hemisphere_dict = {}\n",
    "        \n",
    "        link = soup.find('li')\n",
    "        image_url = link.a['href']\n",
    "        \n",
    "        hemisphere_dict['image_url'] = image_url\n",
    "        hemisphere_dict['title'] = title\n",
    "        \n",
    "        # append the dictionary with the image url string and the hemisphere title to a list. \n",
    "        # This list will contain one dictionary for each hemisphere.\n",
    "        hemispheres.append(hemisphere_dict)\n",
    "        \n",
    "        # return to last page to gather other hemispheres\n",
    "        browser.visit(usgs_url)\n",
    "    except:\n",
    "        print('Hemisphere Not Available')\n",
    "\n",
    "# quit Splinter\n",
    "browser.quit()"
   ]
  },
  {
   "cell_type": "code",
   "execution_count": null,
   "metadata": {},
   "outputs": [],
   "source": []
  }
 ],
 "metadata": {
  "kernelspec": {
   "display_name": "Python 3",
   "language": "python",
   "name": "python3"
  },
  "language_info": {
   "codemirror_mode": {
    "name": "ipython",
    "version": 3
   },
   "file_extension": ".py",
   "mimetype": "text/x-python",
   "name": "python",
   "nbconvert_exporter": "python",
   "pygments_lexer": "ipython3",
   "version": "3.8.3"
  }
 },
 "nbformat": 4,
 "nbformat_minor": 4
}
